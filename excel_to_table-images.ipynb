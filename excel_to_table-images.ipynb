{
 "cells": [
  {
   "cell_type": "markdown",
   "metadata": {},
   "source": [
    "The script below takes an excel file with data and creates images with headers and indexes for each row."
   ]
  },
  {
   "cell_type": "code",
   "execution_count": null,
   "metadata": {},
   "outputs": [],
   "source": [
    "import pandas as pd\n",
    "import matplotlib.pyplot as plt\n",
    "\n",
    "# Load the Excel file\n",
    "# excel_file = 'NIS data base_TunSea.xlsx'  # Replace with the path to your Excel file\n",
    "# df = pd.read_excel(excel_file)\n",
    "\n",
    "#in order to seperate the columns based on the sheets\n",
    "excel_file = 'NIS data base_TunSea.xlsx'\n",
    "sheet_name = 3 # Index 1 corresponds to the second sheet (indexing is 0-based)\n",
    "# sheet_name = 2  \n",
    "# sheet_name = 3\n",
    "\n",
    "df = pd.read_excel(excel_file, sheet_name)\n",
    "\n",
    "# Iterate through the DataFrame rows\n",
    "for index, row in df.iterrows():\n",
    "    # Create a figure and axis for each row\n",
    "    fig, ax = plt.subplots()\n",
    "\n",
    "    # Create a DataFrame with only the current row\n",
    "    row_df = pd.DataFrame([row], columns=row.index)\n",
    "\n",
    "    # Plot the row as a table with the header\n",
    "    table = ax.table(cellText=row_df.values, colLabels=row_df.columns, cellLoc='center', loc='center')\n",
    "\n",
    "    # Format the table\n",
    "    table.auto_set_font_size(False)\n",
    "    table.set_fontsize(8)\n",
    "\n",
    "    # Resize the columns to fit the content\n",
    "    table.auto_set_column_width([i for i in range(len(row_df.columns))])\n",
    "\n",
    "    # Remove the x and y axis labels\n",
    "    ax.axis('off')\n",
    "\n",
    "    # Save the table as an image for each row\n",
    "    output_image = f'table_image_row_{index}.png'  # Output image file name for each row\n",
    "    plt.savefig(output_image, bbox_inches='tight', pad_inches=0)\n",
    "\n",
    "    # Close the figure to release resources\n",
    "    plt.close(fig)\n",
    "\n",
    "# Display the images (optional)\n",
    "plt.show()"
   ]
  }
 ],
 "metadata": {
  "kernelspec": {
   "display_name": "Python 3",
   "language": "python",
   "name": "python3"
  },
  "language_info": {
   "codemirror_mode": {
    "name": "ipython",
    "version": 3
   },
   "file_extension": ".py",
   "mimetype": "text/x-python",
   "name": "python",
   "nbconvert_exporter": "python",
   "pygments_lexer": "ipython3",
   "version": "3.10.7"
  }
 },
 "nbformat": 4,
 "nbformat_minor": 2
}
